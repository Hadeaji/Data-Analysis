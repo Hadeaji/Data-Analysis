{
 "cells": [
  {
   "cell_type": "code",
   "execution_count": 21,
   "metadata": {},
   "outputs": [
    {
     "output_type": "stream",
     "name": "stdout",
     "text": [
      "        Rank                                              Name Platform  \\\n0          1                                        Wii Sports      Wii   \n1          2                                 Super Mario Bros.      NES   \n2          3                                    Mario Kart Wii      Wii   \n3          4                                 Wii Sports Resort      Wii   \n4          5                          Pokemon Red/Pokemon Blue       GB   \n...      ...                                               ...      ...   \n16593  16596                Woody Woodpecker in Crazy Castle 5      GBA   \n16594  16597                     Men in Black II: Alien Escape       GC   \n16595  16598  SCORE International Baja 1000: The Official Game      PS2   \n16596  16599                                        Know How 2       DS   \n16597  16600                                  Spirits & Spells      GBA   \n\n         Year         Genre   Publisher  NA_Sales  EU_Sales  JP_Sales  \\\n0      2006.0        Sports    Nintendo     41.49     29.02      3.77   \n1      1985.0      Platform    Nintendo     29.08      3.58      6.81   \n2      2008.0        Racing    Nintendo     15.85     12.88      3.79   \n3      2009.0        Sports    Nintendo     15.75     11.01      3.28   \n4      1996.0  Role-Playing    Nintendo     11.27      8.89     10.22   \n...       ...           ...         ...       ...       ...       ...   \n16593  2002.0      Platform       Kemco      0.01      0.00      0.00   \n16594  2003.0       Shooter  Infogrames      0.01      0.00      0.00   \n16595  2008.0        Racing  Activision      0.00      0.00      0.00   \n16596  2010.0        Puzzle    7G//AMES      0.00      0.01      0.00   \n16597  2003.0      Platform     Wanadoo      0.01      0.00      0.00   \n\n       Other_Sales  Global_Sales  \n0             8.46         82.74  \n1             0.77         40.24  \n2             3.31         35.82  \n3             2.96         33.00  \n4             1.00         31.37  \n...            ...           ...  \n16593         0.00          0.01  \n16594         0.00          0.01  \n16595         0.00          0.01  \n16596         0.00          0.01  \n16597         0.00          0.01  \n\n[16598 rows x 11 columns]\n"
     ]
    }
   ],
   "source": [
    "import pandas as pd\n",
    "\n",
    "df = pd.read_csv('./vgsales.csv')\n",
    "\n",
    "print(df)"
   ]
  },
  {
   "cell_type": "code",
   "execution_count": 29,
   "metadata": {},
   "outputs": [
    {
     "output_type": "stream",
     "name": "stdout",
     "text": [
      "Electronic Arts\n"
     ]
    }
   ],
   "source": [
    "# 1- Which company is the most common video game publisher?\n",
    "rs1 =df[['Publisher']].value_counts().idxmax()[0]\n",
    "print(rs1)\n"
   ]
  },
  {
   "cell_type": "code",
   "execution_count": 28,
   "metadata": {},
   "outputs": [
    {
     "output_type": "stream",
     "name": "stdout",
     "text": [
      "DS\n"
     ]
    }
   ],
   "source": [
    "# 2- What’s the most common platform?\n",
    "rs2 =df[['Platform']].value_counts().idxmax()[0]\n",
    "print(rs2)\n"
   ]
  },
  {
   "cell_type": "code",
   "execution_count": 32,
   "metadata": {},
   "outputs": [
    {
     "output_type": "stream",
     "name": "stdout",
     "text": [
      "Action\n"
     ]
    }
   ],
   "source": [
    "# 3- What about the most common genre?\n",
    "rs3 =df[['Genre']].value_counts().idxmax()[0]\n",
    "print(rs3)"
   ]
  },
  {
   "cell_type": "code",
   "execution_count": 31,
   "metadata": {},
   "outputs": [
    {
     "output_type": "stream",
     "name": "stdout",
     "text": [
      "                                            Name  Global_Sales\n0                                     Wii Sports         82.74\n1                              Super Mario Bros.         40.24\n2                                 Mario Kart Wii         35.82\n3                              Wii Sports Resort         33.00\n4                       Pokemon Red/Pokemon Blue         31.37\n5                                         Tetris         30.26\n6                          New Super Mario Bros.         30.01\n7                                       Wii Play         29.02\n8                      New Super Mario Bros. Wii         28.62\n9                                      Duck Hunt         28.31\n10                                    Nintendogs         24.76\n11                                 Mario Kart DS         23.42\n12                   Pokemon Gold/Pokemon Silver         23.10\n13                                       Wii Fit         22.72\n14                                  Wii Fit Plus         22.00\n15                            Kinect Adventures!         21.82\n16                            Grand Theft Auto V         21.40\n17                 Grand Theft Auto: San Andreas         20.81\n18                             Super Mario World         20.61\n19  Brain Age: Train Your Brain in Minutes a Day         20.22\n"
     ]
    }
   ],
   "source": [
    "# 4- What are the top 20 highest grossing games?\n",
    "rs4 = df[['Name','Global_Sales']].sort_values('Global_Sales', ascending=False).head(20)\n",
    "print(rs4)"
   ]
  },
  {
   "cell_type": "code",
   "execution_count": 26,
   "metadata": {},
   "outputs": [
    {
     "output_type": "error",
     "ename": "TypeError",
     "evalue": "'int' object is not callable",
     "traceback": [
      "\u001b[0;31m---------------------------------------------------------------------------\u001b[0m",
      "\u001b[0;31mTypeError\u001b[0m                                 Traceback (most recent call last)",
      "\u001b[0;32m<ipython-input-26-91c031f977d5>\u001b[0m in \u001b[0;36m<module>\u001b[0;34m\u001b[0m\n\u001b[1;32m      4\u001b[0m \u001b[0mmedian1\u001b[0m \u001b[0;34m=\u001b[0m \u001b[0mdf\u001b[0m\u001b[0;34m[\u001b[0m\u001b[0;34m[\u001b[0m\u001b[0;34m'NA_Sales'\u001b[0m\u001b[0;34m]\u001b[0m\u001b[0;34m]\u001b[0m\u001b[0;34m.\u001b[0m\u001b[0mmedian\u001b[0m\u001b[0;34m(\u001b[0m\u001b[0;34m)\u001b[0m\u001b[0;34m[\u001b[0m\u001b[0;36m0\u001b[0m\u001b[0;34m]\u001b[0m\u001b[0;34m\u001b[0m\u001b[0;34m\u001b[0m\u001b[0m\n\u001b[1;32m      5\u001b[0m \u001b[0mresult\u001b[0m \u001b[0;34m=\u001b[0m \u001b[0mdf\u001b[0m\u001b[0;34m[\u001b[0m\u001b[0mdf\u001b[0m\u001b[0;34m[\u001b[0m\u001b[0;34m'NA_Sales'\u001b[0m\u001b[0;34m]\u001b[0m\u001b[0;34m==\u001b[0m\u001b[0mmedian1\u001b[0m\u001b[0;34m]\u001b[0m\u001b[0;34m\u001b[0m\u001b[0;34m\u001b[0m\u001b[0m\n\u001b[0;32m----> 6\u001b[0;31m \u001b[0mlenn\u001b[0m \u001b[0;34m=\u001b[0m \u001b[0mlen\u001b[0m\u001b[0;34m(\u001b[0m\u001b[0mresult\u001b[0m\u001b[0;34m)\u001b[0m\u001b[0;34m\u001b[0m\u001b[0;34m\u001b[0m\u001b[0m\n\u001b[0m\u001b[1;32m      7\u001b[0m \u001b[0mf_result\u001b[0m \u001b[0;34m=\u001b[0m \u001b[0mresult\u001b[0m\u001b[0;34m[\u001b[0m\u001b[0;34m(\u001b[0m\u001b[0mlenn\u001b[0m\u001b[0;34m//\u001b[0m\u001b[0;36m2\u001b[0m\u001b[0;34m)\u001b[0m\u001b[0;34m-\u001b[0m\u001b[0;36m5\u001b[0m\u001b[0;34m:\u001b[0m\u001b[0;34m(\u001b[0m\u001b[0mlenn\u001b[0m\u001b[0;34m//\u001b[0m\u001b[0;36m2\u001b[0m\u001b[0;34m)\u001b[0m\u001b[0;34m+\u001b[0m\u001b[0;36m5\u001b[0m\u001b[0;34m]\u001b[0m\u001b[0;34m\u001b[0m\u001b[0;34m\u001b[0m\u001b[0m\n\u001b[1;32m      8\u001b[0m \u001b[0mprint\u001b[0m\u001b[0;34m(\u001b[0m\u001b[0;34mf'The Median Is {median1}'\u001b[0m\u001b[0;34m)\u001b[0m\u001b[0;34m\u001b[0m\u001b[0;34m\u001b[0m\u001b[0m\n",
      "\u001b[0;31mTypeError\u001b[0m: 'int' object is not callable"
     ]
    }
   ],
   "source": [
    "# 5- For North American video game sales, what’s the median?\n",
    "\n",
    "\n",
    "median1 = df[['NA_Sales']].median()[0]\n",
    "result = df[df['NA_Sales']==median1]\n",
    "lenn = len(result)\n",
    "f_result = result[(lenn//2)-5:(lenn//2)+5]\n",
    "print(f'The Median Is {median1}')\n",
    "print(f_result)\n"
   ]
  },
  {
   "cell_type": "code",
   "execution_count": null,
   "metadata": {},
   "outputs": [],
   "source": [
    "# 6- For the top-selling game of all time, how many standard deviations above/below the mean are its sales for North America?\n",
    "\n",
    "\n",
    "highest_selling_game= df['NA_Sales'].head(1)[0]\n",
    "\n",
    "std = df['NA_Sales'].std()\n",
    "\n",
    "mean = df['NA_Sales'].mean()\n",
    "\n",
    "# I took this equation from a TA lol\n",
    "rs6=(highest_selling_game-mean)/std\n",
    "\n",
    "print(rs6)"
   ]
  },
  {
   "cell_type": "code",
   "execution_count": null,
   "metadata": {},
   "outputs": [],
   "source": [
    "# 7- The Nintendo Wii seems to have outdone itself with games. How does its average number of sales compare with all of the other platforms?\n",
    "\n",
    "df1 = df[df['Publisher']=='Nintendo'][df['Platform']=='Wii']\n",
    "df2 = df[df['Publisher']=='Nintendo'][df['Platform']!='Wii']\n",
    "\n",
    "wii_mean = df1[['Global_Sales']].mean()[0]\n",
    "\n",
    "not_wii_mean = df2[['Global_Sales']].mean()[0]\n",
    "\n",
    "rs7 = wii_mean - not_wii_mean\n",
    "\n",
    "print(rs7)"
   ]
  },
  {
   "cell_type": "code",
   "execution_count": null,
   "metadata": {},
   "outputs": [],
   "source": [
    "# 8- Come up with 3 more questions that can be answered with this data set\n",
    "\n",
    "# 1) Whish Genre Nintendo releases the most \n",
    "\n",
    "df1 = df[df['Publisher']=='Nintendo'][['Genre']].value_counts().idxmax()[0]\n",
    "print(df1)\n",
    "\n",
    "# 2) list of Publishers number of games that are in the top 100 game\n",
    "df2 = df[df['Rank']<=100][['Publisher']].value_counts()\n",
    "print(df2)\n",
    "\n",
    "# 3) what is the top selling game in japan rank \n",
    "df3 = df.sort_values('JP_Sales', ascending=False).head(1)\n",
    "print(df3.Rank.value_counts().idxmax())\n",
    "\n"
   ]
  },
  {
   "cell_type": "code",
   "execution_count": 33,
   "metadata": {},
   "outputs": [
    {
     "output_type": "stream",
     "name": "stdout",
     "text": [
      "Success!!!\n"
     ]
    }
   ],
   "source": [
    "def test():\n",
    "\n",
    "    def assert_equal(actual,expected):\n",
    "        assert actual == expected, f\"Expected {expected} but got {actual}\"\n",
    "\n",
    "    assert_equal(rs1, 'Electronic Arts')\n",
    "    assert_equal(rs2, 'DS')\n",
    "    assert_equal(rs3, 'Action')\n",
    "    assert_equal(rs4.iloc[0].Name, 'Wii Sports')\n",
    "    assert_equal(rs4.iloc[19].Name, 'Brain Age: Train Your Brain in Minutes a Day')\n",
    "    assert_equal(median1, 0.08)\n",
    "    assert_equal(f_result.iloc[9].Name, 'NBA Jam 2002')\n",
    "\n",
    "    print(\"Success!!!\")\n",
    "\n",
    "test()\n"
   ]
  },
  {
   "cell_type": "code",
   "execution_count": null,
   "metadata": {},
   "outputs": [],
   "source": []
  }
 ],
 "metadata": {
  "kernelspec": {
   "display_name": "Python 3",
   "language": "python",
   "name": "python3"
  },
  "language_info": {
   "codemirror_mode": {
    "name": "ipython",
    "version": 3
   },
   "file_extension": ".py",
   "mimetype": "text/x-python",
   "name": "python",
   "nbconvert_exporter": "python",
   "pygments_lexer": "ipython3",
   "version": "3.9.0-final"
  }
 },
 "nbformat": 4,
 "nbformat_minor": 4
}