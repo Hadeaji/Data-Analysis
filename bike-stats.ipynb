{
 "cells": [
  {
   "cell_type": "code",
   "execution_count": 1,
   "metadata": {},
   "outputs": [
    {
     "output_type": "stream",
     "name": "stderr",
     "text": [
      "b'Skipping line 50794: expected 12 fields, saw 20\\n'\n"
     ]
    },
    {
     "output_type": "execute_result",
     "data": {
      "text/plain": [
       "        trip_id         starttime          stoptime    bikeid  tripduration  \\\n",
       "0           431  10/13/2014 10:31  10/13/2014 10:48  SEA00298       985.935   \n",
       "1           432  10/13/2014 10:32  10/13/2014 10:48  SEA00195       926.375   \n",
       "2           433  10/13/2014 10:33  10/13/2014 10:48  SEA00486       883.831   \n",
       "3           434  10/13/2014 10:34  10/13/2014 10:48  SEA00333       865.937   \n",
       "4           435  10/13/2014 10:34  10/13/2014 10:49  SEA00202       923.923   \n",
       "...         ...               ...               ...       ...           ...   \n",
       "286852   255241   8/31/2016 23:34   8/31/2016 23:45  SEA00201       679.532   \n",
       "286853   255242   8/31/2016 23:48     9/1/2016 0:20  SEA00247      1965.418   \n",
       "286854   255243   8/31/2016 23:47     9/1/2016 0:20  SEA00300      1951.173   \n",
       "286855   255244   8/31/2016 23:49     9/1/2016 0:20  SEA00047      1883.299   \n",
       "286856   255245   8/31/2016 23:49     9/1/2016 0:20  SEA00442      1896.031   \n",
       "\n",
       "                             from_station_name  \\\n",
       "0                          2nd Ave & Spring St   \n",
       "1                          2nd Ave & Spring St   \n",
       "2                          2nd Ave & Spring St   \n",
       "3                          2nd Ave & Spring St   \n",
       "4                          2nd Ave & Spring St   \n",
       "...                                        ...   \n",
       "286852                 Harvard Ave & E Pine St   \n",
       "286853  Cal Anderson Park / 11th Ave & Pine St   \n",
       "286854  Cal Anderson Park / 11th Ave & Pine St   \n",
       "286855  Cal Anderson Park / 11th Ave & Pine St   \n",
       "286856  Cal Anderson Park / 11th Ave & Pine St   \n",
       "\n",
       "                                          to_station_name from_station_id  \\\n",
       "0       Occidental Park / Occidental Ave S & S Washing...          CBD-06   \n",
       "1       Occidental Park / Occidental Ave S & S Washing...          CBD-06   \n",
       "2       Occidental Park / Occidental Ave S & S Washing...          CBD-06   \n",
       "3       Occidental Park / Occidental Ave S & S Washing...          CBD-06   \n",
       "4       Occidental Park / Occidental Ave S & S Washing...          CBD-06   \n",
       "...                                                   ...             ...   \n",
       "286852                                2nd Ave & Spring St           CH-09   \n",
       "286853                              6th Ave S & S King St           CH-08   \n",
       "286854                              6th Ave S & S King St           CH-08   \n",
       "286855                              6th Ave S & S King St           CH-08   \n",
       "286856                              6th Ave S & S King St           CH-08   \n",
       "\n",
       "       to_station_id                usertype  gender  birthyear  \n",
       "0              PS-04                  Member    Male     1960.0  \n",
       "1              PS-04                  Member    Male     1970.0  \n",
       "2              PS-04                  Member  Female     1988.0  \n",
       "3              PS-04                  Member  Female     1977.0  \n",
       "4              PS-04                  Member    Male     1971.0  \n",
       "...              ...                     ...     ...        ...  \n",
       "286852        CBD-06  Short-Term Pass Holder     NaN        NaN  \n",
       "286853         ID-04  Short-Term Pass Holder     NaN        NaN  \n",
       "286854         ID-04  Short-Term Pass Holder     NaN        NaN  \n",
       "286855         ID-04  Short-Term Pass Holder     NaN        NaN  \n",
       "286856         ID-04  Short-Term Pass Holder     NaN        NaN  \n",
       "\n",
       "[286857 rows x 12 columns]"
      ],
      "text/html": "<div>\n<style scoped>\n    .dataframe tbody tr th:only-of-type {\n        vertical-align: middle;\n    }\n\n    .dataframe tbody tr th {\n        vertical-align: top;\n    }\n\n    .dataframe thead th {\n        text-align: right;\n    }\n</style>\n<table border=\"1\" class=\"dataframe\">\n  <thead>\n    <tr style=\"text-align: right;\">\n      <th></th>\n      <th>trip_id</th>\n      <th>starttime</th>\n      <th>stoptime</th>\n      <th>bikeid</th>\n      <th>tripduration</th>\n      <th>from_station_name</th>\n      <th>to_station_name</th>\n      <th>from_station_id</th>\n      <th>to_station_id</th>\n      <th>usertype</th>\n      <th>gender</th>\n      <th>birthyear</th>\n    </tr>\n  </thead>\n  <tbody>\n    <tr>\n      <th>0</th>\n      <td>431</td>\n      <td>10/13/2014 10:31</td>\n      <td>10/13/2014 10:48</td>\n      <td>SEA00298</td>\n      <td>985.935</td>\n      <td>2nd Ave &amp; Spring St</td>\n      <td>Occidental Park / Occidental Ave S &amp; S Washing...</td>\n      <td>CBD-06</td>\n      <td>PS-04</td>\n      <td>Member</td>\n      <td>Male</td>\n      <td>1960.0</td>\n    </tr>\n    <tr>\n      <th>1</th>\n      <td>432</td>\n      <td>10/13/2014 10:32</td>\n      <td>10/13/2014 10:48</td>\n      <td>SEA00195</td>\n      <td>926.375</td>\n      <td>2nd Ave &amp; Spring St</td>\n      <td>Occidental Park / Occidental Ave S &amp; S Washing...</td>\n      <td>CBD-06</td>\n      <td>PS-04</td>\n      <td>Member</td>\n      <td>Male</td>\n      <td>1970.0</td>\n    </tr>\n    <tr>\n      <th>2</th>\n      <td>433</td>\n      <td>10/13/2014 10:33</td>\n      <td>10/13/2014 10:48</td>\n      <td>SEA00486</td>\n      <td>883.831</td>\n      <td>2nd Ave &amp; Spring St</td>\n      <td>Occidental Park / Occidental Ave S &amp; S Washing...</td>\n      <td>CBD-06</td>\n      <td>PS-04</td>\n      <td>Member</td>\n      <td>Female</td>\n      <td>1988.0</td>\n    </tr>\n    <tr>\n      <th>3</th>\n      <td>434</td>\n      <td>10/13/2014 10:34</td>\n      <td>10/13/2014 10:48</td>\n      <td>SEA00333</td>\n      <td>865.937</td>\n      <td>2nd Ave &amp; Spring St</td>\n      <td>Occidental Park / Occidental Ave S &amp; S Washing...</td>\n      <td>CBD-06</td>\n      <td>PS-04</td>\n      <td>Member</td>\n      <td>Female</td>\n      <td>1977.0</td>\n    </tr>\n    <tr>\n      <th>4</th>\n      <td>435</td>\n      <td>10/13/2014 10:34</td>\n      <td>10/13/2014 10:49</td>\n      <td>SEA00202</td>\n      <td>923.923</td>\n      <td>2nd Ave &amp; Spring St</td>\n      <td>Occidental Park / Occidental Ave S &amp; S Washing...</td>\n      <td>CBD-06</td>\n      <td>PS-04</td>\n      <td>Member</td>\n      <td>Male</td>\n      <td>1971.0</td>\n    </tr>\n    <tr>\n      <th>...</th>\n      <td>...</td>\n      <td>...</td>\n      <td>...</td>\n      <td>...</td>\n      <td>...</td>\n      <td>...</td>\n      <td>...</td>\n      <td>...</td>\n      <td>...</td>\n      <td>...</td>\n      <td>...</td>\n      <td>...</td>\n    </tr>\n    <tr>\n      <th>286852</th>\n      <td>255241</td>\n      <td>8/31/2016 23:34</td>\n      <td>8/31/2016 23:45</td>\n      <td>SEA00201</td>\n      <td>679.532</td>\n      <td>Harvard Ave &amp; E Pine St</td>\n      <td>2nd Ave &amp; Spring St</td>\n      <td>CH-09</td>\n      <td>CBD-06</td>\n      <td>Short-Term Pass Holder</td>\n      <td>NaN</td>\n      <td>NaN</td>\n    </tr>\n    <tr>\n      <th>286853</th>\n      <td>255242</td>\n      <td>8/31/2016 23:48</td>\n      <td>9/1/2016 0:20</td>\n      <td>SEA00247</td>\n      <td>1965.418</td>\n      <td>Cal Anderson Park / 11th Ave &amp; Pine St</td>\n      <td>6th Ave S &amp; S King St</td>\n      <td>CH-08</td>\n      <td>ID-04</td>\n      <td>Short-Term Pass Holder</td>\n      <td>NaN</td>\n      <td>NaN</td>\n    </tr>\n    <tr>\n      <th>286854</th>\n      <td>255243</td>\n      <td>8/31/2016 23:47</td>\n      <td>9/1/2016 0:20</td>\n      <td>SEA00300</td>\n      <td>1951.173</td>\n      <td>Cal Anderson Park / 11th Ave &amp; Pine St</td>\n      <td>6th Ave S &amp; S King St</td>\n      <td>CH-08</td>\n      <td>ID-04</td>\n      <td>Short-Term Pass Holder</td>\n      <td>NaN</td>\n      <td>NaN</td>\n    </tr>\n    <tr>\n      <th>286855</th>\n      <td>255244</td>\n      <td>8/31/2016 23:49</td>\n      <td>9/1/2016 0:20</td>\n      <td>SEA00047</td>\n      <td>1883.299</td>\n      <td>Cal Anderson Park / 11th Ave &amp; Pine St</td>\n      <td>6th Ave S &amp; S King St</td>\n      <td>CH-08</td>\n      <td>ID-04</td>\n      <td>Short-Term Pass Holder</td>\n      <td>NaN</td>\n      <td>NaN</td>\n    </tr>\n    <tr>\n      <th>286856</th>\n      <td>255245</td>\n      <td>8/31/2016 23:49</td>\n      <td>9/1/2016 0:20</td>\n      <td>SEA00442</td>\n      <td>1896.031</td>\n      <td>Cal Anderson Park / 11th Ave &amp; Pine St</td>\n      <td>6th Ave S &amp; S King St</td>\n      <td>CH-08</td>\n      <td>ID-04</td>\n      <td>Short-Term Pass Holder</td>\n      <td>NaN</td>\n      <td>NaN</td>\n    </tr>\n  </tbody>\n</table>\n<p>286857 rows × 12 columns</p>\n</div>"
     },
     "metadata": {},
     "execution_count": 1
    }
   ],
   "source": [
    "import pandas as pd\n",
    "\n",
    "import datetime\n",
    "\n",
    "df = pd.read_csv('./trip.csv',error_bad_lines=False)\n",
    "\n",
    "df\r\n"
   ]
  },
  {
   "cell_type": "code",
   "execution_count": 2,
   "metadata": {},
   "outputs": [
    {
     "output_type": "stream",
     "name": "stdout",
     "text": [
      "1178.2956753399776\n"
     ]
    }
   ],
   "source": [
    "# What is the average trip duration for a borrowed bicycle?\n",
    "rs =df[['tripduration']].mean()[0]\n",
    "print(rs)\n"
   ]
  },
  {
   "cell_type": "code",
   "execution_count": 3,
   "metadata": {},
   "outputs": [
    {
     "output_type": "stream",
     "name": "stdout",
     "text": [
      "33\n"
     ]
    }
   ],
   "source": [
    "# What’s the most common age of a bicycle-sharer?\n",
    "rs =df[['birthyear']].value_counts().idxmax()[0]\n",
    "x = datetime.datetime.now()\n",
    "\n",
    "rs = x.year - rs\n",
    "print(int(rs))"
   ]
  },
  {
   "cell_type": "code",
   "execution_count": 4,
   "metadata": {},
   "outputs": [
    {
     "output_type": "stream",
     "name": "stdout",
     "text": [
      "            Precipitation_In\nyear month                  \n2014 10             0.300526\n     11             0.141667\n     12             0.145161\n2015 1              0.070645\n     2              0.163214\n     3              0.135161\n     4              0.056667\n     5              0.014194\n     6              0.005667\n     7              0.008710\n     8              0.035484\n     9              0.041000\n     10             0.120645\n     11             0.234000\n     12             0.327419\n2016 1              0.216452\n     2              0.173448\n     3              0.178710\n     4              0.046000\n     5              0.010645\n     6              0.055333\n     7              0.015484\n     8              0.000968\n            Precipitation_In\nyear month                  \n2014 10                0.140\n     11                0.010\n     12                0.010\n2015 1                 0.010\n     2                 0.025\n     3                 0.000\n     4                 0.000\n     5                 0.000\n     6                 0.000\n     7                 0.000\n     8                 0.000\n     9                 0.000\n     10                0.010\n     11                0.065\n     12                0.120\n2016 1                 0.070\n     2                 0.080\n     3                 0.060\n     4                 0.000\n     5                 0.000\n     6                 0.000\n     7                 0.000\n     8                 0.000\n"
     ]
    }
   ],
   "source": [
    "# Given all the weather data here, find the average precipitation per month, and the median precipitation.\n",
    "\n",
    "df_weather = pd.read_csv('./weather.csv',error_bad_lines=False)\n",
    "\n",
    "# adding new column indicating the month and year\n",
    "df_weather['month'] = pd.DatetimeIndex(df_weather['Date']).month\n",
    "df_weather['year'] = pd.DatetimeIndex(df_weather['Date']).year\n",
    "\n",
    "# grouping by year and month\n",
    "average=df_weather.groupby(['year','month']).mean()[['Precipitation_In']]\n",
    "median= df_weather.groupby(['year','month']).median()[['Precipitation_In']]\n",
    "\n",
    "print(average)\n",
    "print(median)\n"
   ]
  },
  {
   "cell_type": "code",
   "execution_count": 5,
   "metadata": {},
   "outputs": [
    {
     "output_type": "execute_result",
     "data": {
      "text/plain": [
       "17.74074074074074"
      ]
     },
     "metadata": {},
     "execution_count": 5
    }
   ],
   "source": [
    "# What’s the average number of bikes at a given bike station?\n",
    "\n",
    "df_station = pd.read_csv('./station.csv',error_bad_lines=False)\n",
    "\n",
    "# def bikes_at_station(station_name):\n",
    "#     result =df_station[df_station['name']==station_name][['current_dockcount']].mean()[0]\n",
    "#     return int(result)\n",
    "station_counts = df_station[df_station[\"decommission_date\"].isnull()]\n",
    "station_counts['current_dockcount'].mean()\n",
    "\n",
    "# bikes_at_station('1st Ave & Marion St')"
   ]
  },
  {
   "cell_type": "code",
   "execution_count": 6,
   "metadata": {},
   "outputs": [
    {
     "output_type": "stream",
     "name": "stdout",
     "text": [
      "-64\n"
     ]
    }
   ],
   "source": [
    "# When a bike station is modified, is it more likely that it’ll lose bikes or gain bikes? How do you know?\n",
    "# result = df_station[df_station['modification_data']!=NaN][['current_dockcount']]\n",
    "\n",
    "res = df_station[['install_dockcount','current_dockcount','modification_date']].dropna()\n",
    "result = res['current_dockcount'].sum() - res['install_dockcount'].sum()\n",
    "print(result)"
   ]
  },
  {
   "cell_type": "code",
   "execution_count": 7,
   "metadata": {},
   "outputs": [
    {
     "output_type": "stream",
     "name": "stdout",
     "text": [
      "1537.079\n105300\n107\n"
     ]
    }
   ],
   "source": [
    "# Come up with 3 more questions that can be answered with this data set\n",
    "# 1- longest trip that oldest man did\n",
    "maxi = int(df[['birthyear']].max()[0])\n",
    "result1 = df[df['birthyear']==maxi][['tripduration']].max()[0]\n",
    "\n",
    "print(result1)\n",
    "\n",
    "# 2- how many Shot-Term Pass Holder\n",
    "result2 =df[['usertype']].value_counts()['Short-Term Pass Holder'][0]\n",
    "print(result2)\n",
    "\n",
    "# 3- Max wind speed\n",
    "result3 =df_weather[['Max_Wind_Speed_MPH']].value_counts().max()\n",
    "print(result3)\n"
   ]
  }
 ],
 "metadata": {
  "kernelspec": {
   "display_name": "Python 3",
   "language": "python",
   "name": "python3"
  },
  "language_info": {
   "codemirror_mode": {
    "name": "ipython",
    "version": 3
   },
   "file_extension": ".py",
   "mimetype": "text/x-python",
   "name": "python",
   "nbconvert_exporter": "python",
   "pygments_lexer": "ipython3",
   "version": "3.9.0-final"
  }
 },
 "nbformat": 4,
 "nbformat_minor": 4
}